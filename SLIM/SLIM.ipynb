{
 "cells": [
  {
   "cell_type": "code",
   "execution_count": 1,
   "id": "18aa4f1c",
   "metadata": {},
   "outputs": [],
   "source": [
    "import os\n",
    "import sys\n",
    "\n",
    "from collections import defaultdict, Counter\n",
    "from tqdm.notebook import tqdm_notebook\n",
    "\n",
    "import numpy as np\n",
    "import pandas as pd\n",
    "import scipy.stats as sps\n",
    "import scipy.sparse as scsp\n",
    "from sklearn.preprocessing import LabelEncoder\n",
    "from sklearn.metrics import ndcg_score, dcg_score, roc_auc_score, average_precision_score\n",
    "from sklearn.metrics.pairwise import cosine_similarity\n",
    "\n",
    "from joblib import Parallel, delayed\n",
    "\n",
    "import tqdm\n",
    "import json\n",
    "\n",
    "import matplotlib.pyplot as plt\n",
    "import seaborn as sns\n",
    "from IPython.display import display, clear_output\n",
    "\n",
    "sns.set()"
   ]
  },
  {
   "cell_type": "code",
   "execution_count": 2,
   "id": "461e3bf1",
   "metadata": {},
   "outputs": [
    {
     "data": {
      "text/plain": [
       "['AS_0',\n",
       " 'AS_1',\n",
       " 'AS_2',\n",
       " 'AS_3',\n",
       " 'AS_4',\n",
       " 'AS_5',\n",
       " 'AS_6',\n",
       " 'AS_7',\n",
       " 'AS_8',\n",
       " 'AS_9']"
      ]
     },
     "execution_count": 2,
     "metadata": {},
     "output_type": "execute_result"
    }
   ],
   "source": [
    "ases = [f\"AS_{i}\" for i in range(10)]\n",
    "ases"
   ]
  },
  {
   "cell_type": "code",
   "execution_count": 3,
   "id": "1fb06432",
   "metadata": {},
   "outputs": [],
   "source": [
    "ratings = {}\n",
    "\n",
    "ratings['AS_0'] = {'AS_0': 1,\n",
    "                   'AS_1': 0,\n",
    "                   'AS_3': 0,\n",
    "                   'AS_6': 1,\n",
    "                   'AS_9': 0}\n",
    "\n",
    "ratings['AS_1'] = {'AS_1': 1,\n",
    "                   'AS_2': 0,\n",
    "                   'AS_3': 1,\n",
    "                   'AS_4': 0,\n",
    "                   'AS_5': 1,\n",
    "                   'AS_7': 1,\n",
    "                   'AS_9': 1}\n",
    "\n",
    "ratings['AS_2'] = {'AS_0': 1,\n",
    "                   'AS_1': 0,\n",
    "                   'AS_2': 1,\n",
    "                   'AS_3': 0,\n",
    "                   'AS_4': 1,\n",
    "                   'AS_6': 1,\n",
    "                   'AS_8': 1}\n",
    "\n",
    "ratings['AS_3'] = {'AS_0': 1,\n",
    "                   'AS_1': 1,\n",
    "                   'AS_3': 1,\n",
    "                   'AS_7': 1,\n",
    "                   'AS_8': 0,\n",
    "                   'AS_9': 1,}\n",
    "\n",
    "ratings['AS_4'] = {'AS_2': 1,\n",
    "                   'AS_4': 1,}\n",
    "\n",
    "ratings['AS_5'] = {'AS_0': 1,\n",
    "                   'AS_1': 1,\n",
    "                   'AS_3': 1,\n",
    "                   'AS_5': 1,\n",
    "                   'AS_6': 0,}\n",
    "\n",
    "ratings['AS_6'] = {'AS_1': 0,\n",
    "                   'AS_2': 1,\n",
    "                   'AS_4': 1,\n",
    "                   'AS_6': 1,}\n",
    "\n",
    "ratings['AS_7'] = {'AS_0': 0,\n",
    "                   'AS_1': 1,\n",
    "                   'AS_7': 1,}\n",
    "\n",
    "ratings['AS_8'] = {'AS_0': 1,\n",
    "                   'AS_3': 0,\n",
    "                   'AS_5': 1,\n",
    "                   'AS_6': 1,\n",
    "                   'AS_8': 1}\n",
    "\n",
    "ratings['AS_9'] = {'AS_0': 1,\n",
    "                   'AS_1': 1,\n",
    "                   'AS_2': 1,\n",
    "                   'AS_4': 1,\n",
    "                   'AS_6': 0,\n",
    "                   'AS_8': 1,\n",
    "                   'AS_9': 1,}"
   ]
  },
  {
   "cell_type": "code",
   "execution_count": 4,
   "id": "1c9c7bf1",
   "metadata": {},
   "outputs": [],
   "source": [
    "df = pd.DataFrame({\"AS\": ases,\n",
    "                   \"Ratings\": list(ratings.values())})"
   ]
  },
  {
   "cell_type": "code",
   "execution_count": 5,
   "id": "7a417f02",
   "metadata": {},
   "outputs": [
    {
     "data": {
      "text/html": [
       "<div>\n",
       "<style scoped>\n",
       "    .dataframe tbody tr th:only-of-type {\n",
       "        vertical-align: middle;\n",
       "    }\n",
       "\n",
       "    .dataframe tbody tr th {\n",
       "        vertical-align: top;\n",
       "    }\n",
       "\n",
       "    .dataframe thead th {\n",
       "        text-align: right;\n",
       "    }\n",
       "</style>\n",
       "<table border=\"1\" class=\"dataframe\">\n",
       "  <thead>\n",
       "    <tr style=\"text-align: right;\">\n",
       "      <th></th>\n",
       "      <th>AS</th>\n",
       "      <th>Ratings</th>\n",
       "    </tr>\n",
       "  </thead>\n",
       "  <tbody>\n",
       "    <tr>\n",
       "      <th>0</th>\n",
       "      <td>AS_0</td>\n",
       "      <td>{'AS_0': 1, 'AS_1': 0, 'AS_3': 0, 'AS_6': 1, '...</td>\n",
       "    </tr>\n",
       "    <tr>\n",
       "      <th>1</th>\n",
       "      <td>AS_1</td>\n",
       "      <td>{'AS_1': 1, 'AS_2': 0, 'AS_3': 1, 'AS_4': 0, '...</td>\n",
       "    </tr>\n",
       "    <tr>\n",
       "      <th>2</th>\n",
       "      <td>AS_2</td>\n",
       "      <td>{'AS_0': 1, 'AS_1': 0, 'AS_2': 1, 'AS_3': 0, '...</td>\n",
       "    </tr>\n",
       "    <tr>\n",
       "      <th>3</th>\n",
       "      <td>AS_3</td>\n",
       "      <td>{'AS_0': 1, 'AS_1': 1, 'AS_3': 1, 'AS_7': 1, '...</td>\n",
       "    </tr>\n",
       "    <tr>\n",
       "      <th>4</th>\n",
       "      <td>AS_4</td>\n",
       "      <td>{'AS_2': 1, 'AS_4': 1}</td>\n",
       "    </tr>\n",
       "    <tr>\n",
       "      <th>5</th>\n",
       "      <td>AS_5</td>\n",
       "      <td>{'AS_0': 1, 'AS_1': 1, 'AS_3': 1, 'AS_5': 1, '...</td>\n",
       "    </tr>\n",
       "    <tr>\n",
       "      <th>6</th>\n",
       "      <td>AS_6</td>\n",
       "      <td>{'AS_1': 0, 'AS_2': 1, 'AS_4': 1, 'AS_6': 1}</td>\n",
       "    </tr>\n",
       "    <tr>\n",
       "      <th>7</th>\n",
       "      <td>AS_7</td>\n",
       "      <td>{'AS_0': 0, 'AS_1': 1, 'AS_7': 1}</td>\n",
       "    </tr>\n",
       "    <tr>\n",
       "      <th>8</th>\n",
       "      <td>AS_8</td>\n",
       "      <td>{'AS_0': 1, 'AS_3': 0, 'AS_5': 1, 'AS_6': 1, '...</td>\n",
       "    </tr>\n",
       "    <tr>\n",
       "      <th>9</th>\n",
       "      <td>AS_9</td>\n",
       "      <td>{'AS_0': 1, 'AS_1': 1, 'AS_2': 1, 'AS_4': 1, '...</td>\n",
       "    </tr>\n",
       "  </tbody>\n",
       "</table>\n",
       "</div>"
      ],
      "text/plain": [
       "     AS                                            Ratings\n",
       "0  AS_0  {'AS_0': 1, 'AS_1': 0, 'AS_3': 0, 'AS_6': 1, '...\n",
       "1  AS_1  {'AS_1': 1, 'AS_2': 0, 'AS_3': 1, 'AS_4': 0, '...\n",
       "2  AS_2  {'AS_0': 1, 'AS_1': 0, 'AS_2': 1, 'AS_3': 0, '...\n",
       "3  AS_3  {'AS_0': 1, 'AS_1': 1, 'AS_3': 1, 'AS_7': 1, '...\n",
       "4  AS_4                             {'AS_2': 1, 'AS_4': 1}\n",
       "5  AS_5  {'AS_0': 1, 'AS_1': 1, 'AS_3': 1, 'AS_5': 1, '...\n",
       "6  AS_6       {'AS_1': 0, 'AS_2': 1, 'AS_4': 1, 'AS_6': 1}\n",
       "7  AS_7                  {'AS_0': 0, 'AS_1': 1, 'AS_7': 1}\n",
       "8  AS_8  {'AS_0': 1, 'AS_3': 0, 'AS_5': 1, 'AS_6': 1, '...\n",
       "9  AS_9  {'AS_0': 1, 'AS_1': 1, 'AS_2': 1, 'AS_4': 1, '..."
      ]
     },
     "execution_count": 5,
     "metadata": {},
     "output_type": "execute_result"
    }
   ],
   "source": [
    "df"
   ]
  },
  {
   "cell_type": "code",
   "execution_count": 6,
   "id": "7744f282",
   "metadata": {},
   "outputs": [],
   "source": [
    "df.to_csv('as_ratings.csv', index=False)"
   ]
  },
  {
   "cell_type": "code",
   "execution_count": 7,
   "id": "5e477aed",
   "metadata": {},
   "outputs": [],
   "source": [
    "df = pd.read_csv('as_ratings.csv')"
   ]
  },
  {
   "cell_type": "code",
   "execution_count": 8,
   "id": "259b2af4",
   "metadata": {},
   "outputs": [
    {
     "data": {
      "text/html": [
       "<div>\n",
       "<style scoped>\n",
       "    .dataframe tbody tr th:only-of-type {\n",
       "        vertical-align: middle;\n",
       "    }\n",
       "\n",
       "    .dataframe tbody tr th {\n",
       "        vertical-align: top;\n",
       "    }\n",
       "\n",
       "    .dataframe thead th {\n",
       "        text-align: right;\n",
       "    }\n",
       "</style>\n",
       "<table border=\"1\" class=\"dataframe\">\n",
       "  <thead>\n",
       "    <tr style=\"text-align: right;\">\n",
       "      <th></th>\n",
       "      <th>AS</th>\n",
       "      <th>Ratings</th>\n",
       "    </tr>\n",
       "  </thead>\n",
       "  <tbody>\n",
       "    <tr>\n",
       "      <th>0</th>\n",
       "      <td>AS_0</td>\n",
       "      <td>{'AS_0': 1, 'AS_1': 0, 'AS_3': 0, 'AS_6': 1, '...</td>\n",
       "    </tr>\n",
       "    <tr>\n",
       "      <th>1</th>\n",
       "      <td>AS_1</td>\n",
       "      <td>{'AS_1': 1, 'AS_2': 0, 'AS_3': 1, 'AS_4': 0, '...</td>\n",
       "    </tr>\n",
       "    <tr>\n",
       "      <th>2</th>\n",
       "      <td>AS_2</td>\n",
       "      <td>{'AS_0': 1, 'AS_1': 0, 'AS_2': 1, 'AS_3': 0, '...</td>\n",
       "    </tr>\n",
       "    <tr>\n",
       "      <th>3</th>\n",
       "      <td>AS_3</td>\n",
       "      <td>{'AS_0': 1, 'AS_1': 1, 'AS_3': 1, 'AS_7': 1, '...</td>\n",
       "    </tr>\n",
       "    <tr>\n",
       "      <th>4</th>\n",
       "      <td>AS_4</td>\n",
       "      <td>{'AS_2': 1, 'AS_4': 1}</td>\n",
       "    </tr>\n",
       "  </tbody>\n",
       "</table>\n",
       "</div>"
      ],
      "text/plain": [
       "     AS                                            Ratings\n",
       "0  AS_0  {'AS_0': 1, 'AS_1': 0, 'AS_3': 0, 'AS_6': 1, '...\n",
       "1  AS_1  {'AS_1': 1, 'AS_2': 0, 'AS_3': 1, 'AS_4': 0, '...\n",
       "2  AS_2  {'AS_0': 1, 'AS_1': 0, 'AS_2': 1, 'AS_3': 0, '...\n",
       "3  AS_3  {'AS_0': 1, 'AS_1': 1, 'AS_3': 1, 'AS_7': 1, '...\n",
       "4  AS_4                             {'AS_2': 1, 'AS_4': 1}"
      ]
     },
     "execution_count": 8,
     "metadata": {},
     "output_type": "execute_result"
    }
   ],
   "source": [
    "df.head()"
   ]
  },
  {
   "cell_type": "code",
   "execution_count": 9,
   "id": "1f1695d2",
   "metadata": {},
   "outputs": [],
   "source": [
    "encoder = LabelEncoder().fit(df['AS'])"
   ]
  },
  {
   "cell_type": "code",
   "execution_count": 10,
   "id": "38416fe4",
   "metadata": {},
   "outputs": [],
   "source": [
    "all_items = df['AS']\n",
    "indices = encoder.transform(all_items)\n",
    "item_to_id = dict(zip(all_items, indices))"
   ]
  },
  {
   "cell_type": "code",
   "execution_count": 11,
   "id": "25d8b051",
   "metadata": {},
   "outputs": [
    {
     "data": {
      "text/plain": [
       "{'AS_0': 0,\n",
       " 'AS_1': 1,\n",
       " 'AS_2': 2,\n",
       " 'AS_3': 3,\n",
       " 'AS_4': 4,\n",
       " 'AS_5': 5,\n",
       " 'AS_6': 6,\n",
       " 'AS_7': 7,\n",
       " 'AS_8': 8,\n",
       " 'AS_9': 9}"
      ]
     },
     "execution_count": 11,
     "metadata": {},
     "output_type": "execute_result"
    }
   ],
   "source": [
    "item_to_id"
   ]
  },
  {
   "cell_type": "markdown",
   "id": "dcd93ea5",
   "metadata": {
    "cellId": "qa58ktmevh0zuqxz8x729g",
    "id": "dcd93ea5"
   },
   "source": [
    "# SLIM"
   ]
  },
  {
   "cell_type": "markdown",
   "id": "87de6456",
   "metadata": {
    "cellId": "l8pvy2jwu2np9tlblj10mg",
    "id": "87de6456"
   },
   "source": [
    "Пусть $R \\in \\mathbb{R}^{|U| \\times |I|}$ &mdash; бинарная матрица взаимодействий пользователей и айтемов. Тогда SLIM оптимизирует\n",
    "\n",
    "$$L = \\frac{1}{2} \\Vert R - RW \\Vert_F^2 + \\frac{\\beta}{2} \\Vert W \\Vert_F^2 + \\lambda \\Vert W \\Vert_1 \\rightarrow \\min_W,\\\\\n",
    "  s.t. \\forall i, j \\; W_{ij} \\geq 0, W_{ii} = 0.$$\n",
    "  \n",
    "Матрица $W$ &mdash; матрица попарных айтемых \"взаимосвязей\"."
   ]
  },
  {
   "cell_type": "code",
   "execution_count": 12,
   "id": "14f37637",
   "metadata": {},
   "outputs": [
    {
     "data": {
      "application/vnd.jupyter.widget-view+json": {
       "model_id": "137595a668fd4ec597d74c635d8830a9",
       "version_major": 2,
       "version_minor": 0
      },
      "text/plain": [
       "  0%|          | 0/10 [00:00<?, ?it/s]"
      ]
     },
     "metadata": {},
     "output_type": "display_data"
    }
   ],
   "source": [
    "import numba\n",
    "\n",
    "item_ratings_ind = [numba.typed.List() for _ in range(len(encoder.classes_))]\n",
    "user_ids = encoder.transform(df['AS'])\n",
    "\n",
    "for user_id, items_with_ratings in tqdm_notebook(zip(user_ids, df['Ratings']),\n",
    "                                                 total=len(df)):\n",
    "    item_ids, item_ratings = zip(*json.loads(items_with_ratings.replace(\"'\", '\"')).items())\n",
    "    item_ids = [item_to_id[item_id] for item_id in item_ids]\n",
    "    for item_id, rating in zip(item_ids, item_ratings):\n",
    "        item_ratings_ind[item_id].append((user_id, rating))\n",
    "        \n",
    "item_ratings_ind_nb = numba.typed.List(item_ratings_ind)"
   ]
  },
  {
   "cell_type": "code",
   "execution_count": 13,
   "id": "a79e0ca7",
   "metadata": {},
   "outputs": [],
   "source": [
    "# item_ratings_ind = [[] for _ in range(len(encoder.classes_))]\n",
    "# user_ids = encoder.transform(df['AS'])\n",
    "\n",
    "# for user_id, items_with_ratings in tqdm_notebook(zip(user_ids, df['Ratings']),\n",
    "#                                                  total=len(df)):\n",
    "\n",
    "#     items_with_ratings = eval(items_with_ratings)\n",
    "#     for key, value in items_with_ratings.items():\n",
    "#         pass\n",
    "#     # print(items_with_ratings)"
   ]
  },
  {
   "cell_type": "code",
   "execution_count": 14,
   "id": "0e027eba",
   "metadata": {},
   "outputs": [],
   "source": [
    "@numba.njit()\n",
    "def fit_one_item(item_ratings, j, n_iter=20, l2_reg=1.0, l1_reg=2.0):\n",
    "    \"\"\"\n",
    "    Оптимизирует один столбец матрицы W\n",
    "    * item_ratings -- список списков взаимодействий айтема,\n",
    "      item_ratings[j] -- список взаимодействий айтема j с пользователями\n",
    "    * j -- номер айтема, для которого ищем веса\n",
    "    * n_iter -- количество итераций оптимизации\n",
    "    * l1_reg, l2_reg -- коэффициенты регуляризации L1 и L2\n",
    "\n",
    "    Возвращает dict: item -> вес, все ненулевые веса\n",
    "    \"\"\"\n",
    "    n_items = len(item_ratings)\n",
    "    per_item_positives = []\n",
    "    item_interactions = set()\n",
    "    for user, rating in item_ratings[j]:\n",
    "        item_interactions.add(user)\n",
    "    for i in range(n_items):\n",
    "        positives = set()\n",
    "        for user, rating in item_ratings[i]:\n",
    "            if rating == 1 and user in item_interactions:\n",
    "                positives.add(user)\n",
    "        per_item_positives.append(positives)\n",
    "\n",
    "    w = np.zeros(n_items)\n",
    "    non_zero_items = set()\n",
    "    for _ in range(n_iter):\n",
    "        for k in range(n_items):\n",
    "            if k == j:\n",
    "                continue\n",
    "\n",
    "            score = len(per_item_positives[j] & per_item_positives[k]) - l1_reg\n",
    "            for i in non_zero_items:\n",
    "                if i == k:\n",
    "                    continue\n",
    "                score -= w[i] * len(per_item_positives[i] & per_item_positives[k])\n",
    "                if score < 0:\n",
    "                    break\n",
    "            score /= len(per_item_positives[k]) + l2_reg\n",
    "\n",
    "            score = max(score, 0.0)\n",
    "\n",
    "            w[k] = score\n",
    "            if w[k] > 1e-5:\n",
    "                non_zero_items.add(k)\n",
    "\n",
    "    non_zero_elements = {}\n",
    "    for i, value in enumerate(w):\n",
    "        assert value >= 0.0\n",
    "        if value > 0:\n",
    "            non_zero_elements[i] = value\n",
    "\n",
    "    return non_zero_elements"
   ]
  },
  {
   "cell_type": "code",
   "execution_count": 15,
   "id": "87d4abac",
   "metadata": {},
   "outputs": [],
   "source": [
    "def get_item_meta(item_id):\n",
    "#     item_id = int(encoder.inverse_transform([item_id])[0])\n",
    "#     return item_meta[item_meta['itemId'] == item_id].iloc[0].to_dict()\n",
    "    return encoder.inverse_transform([item_id])[0]\n",
    "\n",
    "\n",
    "def visualize_top(item_ratings_ind_nb, j, top=10):\n",
    "    weights = fit_one_item(item_ratings_ind_nb, j)\n",
    "    sorted_items = sorted(weights.items(), key=lambda x: x[1], reverse=True)[:top]\n",
    "\n",
    "    item_ids, weights = zip(*sorted_items)\n",
    "    items = map(get_item_meta, item_ids)\n",
    "    anchor_item = get_item_meta(j)\n",
    "\n",
    "    with pd.option_context('display.max_colwidth', 100):\n",
    "        display(pd.DataFrame({\n",
    "            anchor_item: [item for item in items],\n",
    "            'score': weights\n",
    "        }))"
   ]
  },
  {
   "cell_type": "code",
   "execution_count": 16,
   "id": "3793ea57",
   "metadata": {},
   "outputs": [
    {
     "data": {
      "text/html": [
       "<div>\n",
       "<style scoped>\n",
       "    .dataframe tbody tr th:only-of-type {\n",
       "        vertical-align: middle;\n",
       "    }\n",
       "\n",
       "    .dataframe tbody tr th {\n",
       "        vertical-align: top;\n",
       "    }\n",
       "\n",
       "    .dataframe thead th {\n",
       "        text-align: right;\n",
       "    }\n",
       "</style>\n",
       "<table border=\"1\" class=\"dataframe\">\n",
       "  <thead>\n",
       "    <tr style=\"text-align: right;\">\n",
       "      <th></th>\n",
       "      <th>AS_0</th>\n",
       "      <th>score</th>\n",
       "    </tr>\n",
       "  </thead>\n",
       "  <tbody>\n",
       "    <tr>\n",
       "      <th>0</th>\n",
       "      <td>AS_6</td>\n",
       "      <td>0.196429</td>\n",
       "    </tr>\n",
       "    <tr>\n",
       "      <th>1</th>\n",
       "      <td>AS_1</td>\n",
       "      <td>0.178571</td>\n",
       "    </tr>\n",
       "    <tr>\n",
       "      <th>2</th>\n",
       "      <td>AS_8</td>\n",
       "      <td>0.107143</td>\n",
       "    </tr>\n",
       "  </tbody>\n",
       "</table>\n",
       "</div>"
      ],
      "text/plain": [
       "   AS_0     score\n",
       "0  AS_6  0.196429\n",
       "1  AS_1  0.178571\n",
       "2  AS_8  0.107143"
      ]
     },
     "metadata": {},
     "output_type": "display_data"
    },
    {
     "data": {
      "text/html": [
       "<div>\n",
       "<style scoped>\n",
       "    .dataframe tbody tr th:only-of-type {\n",
       "        vertical-align: middle;\n",
       "    }\n",
       "\n",
       "    .dataframe tbody tr th {\n",
       "        vertical-align: top;\n",
       "    }\n",
       "\n",
       "    .dataframe thead th {\n",
       "        text-align: right;\n",
       "    }\n",
       "</style>\n",
       "<table border=\"1\" class=\"dataframe\">\n",
       "  <thead>\n",
       "    <tr style=\"text-align: right;\">\n",
       "      <th></th>\n",
       "      <th>AS_1</th>\n",
       "      <th>score</th>\n",
       "    </tr>\n",
       "  </thead>\n",
       "  <tbody>\n",
       "    <tr>\n",
       "      <th>0</th>\n",
       "      <td>AS_7</td>\n",
       "      <td>0.135135</td>\n",
       "    </tr>\n",
       "    <tr>\n",
       "      <th>1</th>\n",
       "      <td>AS_3</td>\n",
       "      <td>0.094595</td>\n",
       "    </tr>\n",
       "    <tr>\n",
       "      <th>2</th>\n",
       "      <td>AS_9</td>\n",
       "      <td>0.094595</td>\n",
       "    </tr>\n",
       "    <tr>\n",
       "      <th>3</th>\n",
       "      <td>AS_0</td>\n",
       "      <td>0.081081</td>\n",
       "    </tr>\n",
       "  </tbody>\n",
       "</table>\n",
       "</div>"
      ],
      "text/plain": [
       "   AS_1     score\n",
       "0  AS_7  0.135135\n",
       "1  AS_3  0.094595\n",
       "2  AS_9  0.094595\n",
       "3  AS_0  0.081081"
      ]
     },
     "metadata": {},
     "output_type": "display_data"
    },
    {
     "data": {
      "text/html": [
       "<div>\n",
       "<style scoped>\n",
       "    .dataframe tbody tr th:only-of-type {\n",
       "        vertical-align: middle;\n",
       "    }\n",
       "\n",
       "    .dataframe tbody tr th {\n",
       "        vertical-align: top;\n",
       "    }\n",
       "\n",
       "    .dataframe thead th {\n",
       "        text-align: right;\n",
       "    }\n",
       "</style>\n",
       "<table border=\"1\" class=\"dataframe\">\n",
       "  <thead>\n",
       "    <tr style=\"text-align: right;\">\n",
       "      <th></th>\n",
       "      <th>AS_2</th>\n",
       "      <th>score</th>\n",
       "    </tr>\n",
       "  </thead>\n",
       "  <tbody>\n",
       "    <tr>\n",
       "      <th>0</th>\n",
       "      <td>AS_4</td>\n",
       "      <td>0.4</td>\n",
       "    </tr>\n",
       "  </tbody>\n",
       "</table>\n",
       "</div>"
      ],
      "text/plain": [
       "   AS_2  score\n",
       "0  AS_4    0.4"
      ]
     },
     "metadata": {},
     "output_type": "display_data"
    },
    {
     "data": {
      "text/html": [
       "<div>\n",
       "<style scoped>\n",
       "    .dataframe tbody tr th:only-of-type {\n",
       "        vertical-align: middle;\n",
       "    }\n",
       "\n",
       "    .dataframe tbody tr th {\n",
       "        vertical-align: top;\n",
       "    }\n",
       "\n",
       "    .dataframe thead th {\n",
       "        text-align: right;\n",
       "    }\n",
       "</style>\n",
       "<table border=\"1\" class=\"dataframe\">\n",
       "  <thead>\n",
       "    <tr style=\"text-align: right;\">\n",
       "      <th></th>\n",
       "      <th>AS_3</th>\n",
       "      <th>score</th>\n",
       "    </tr>\n",
       "  </thead>\n",
       "  <tbody>\n",
       "    <tr>\n",
       "      <th>0</th>\n",
       "      <td>AS_1</td>\n",
       "      <td>0.25</td>\n",
       "    </tr>\n",
       "  </tbody>\n",
       "</table>\n",
       "</div>"
      ],
      "text/plain": [
       "   AS_3  score\n",
       "0  AS_1   0.25"
      ]
     },
     "metadata": {},
     "output_type": "display_data"
    },
    {
     "data": {
      "text/html": [
       "<div>\n",
       "<style scoped>\n",
       "    .dataframe tbody tr th:only-of-type {\n",
       "        vertical-align: middle;\n",
       "    }\n",
       "\n",
       "    .dataframe tbody tr th {\n",
       "        vertical-align: top;\n",
       "    }\n",
       "\n",
       "    .dataframe thead th {\n",
       "        text-align: right;\n",
       "    }\n",
       "</style>\n",
       "<table border=\"1\" class=\"dataframe\">\n",
       "  <thead>\n",
       "    <tr style=\"text-align: right;\">\n",
       "      <th></th>\n",
       "      <th>AS_4</th>\n",
       "      <th>score</th>\n",
       "    </tr>\n",
       "  </thead>\n",
       "  <tbody>\n",
       "    <tr>\n",
       "      <th>0</th>\n",
       "      <td>AS_2</td>\n",
       "      <td>0.4</td>\n",
       "    </tr>\n",
       "  </tbody>\n",
       "</table>\n",
       "</div>"
      ],
      "text/plain": [
       "   AS_4  score\n",
       "0  AS_2    0.4"
      ]
     },
     "metadata": {},
     "output_type": "display_data"
    },
    {
     "data": {
      "text/html": [
       "<div>\n",
       "<style scoped>\n",
       "    .dataframe tbody tr th:only-of-type {\n",
       "        vertical-align: middle;\n",
       "    }\n",
       "\n",
       "    .dataframe tbody tr th {\n",
       "        vertical-align: top;\n",
       "    }\n",
       "\n",
       "    .dataframe thead th {\n",
       "        text-align: right;\n",
       "    }\n",
       "</style>\n",
       "<table border=\"1\" class=\"dataframe\">\n",
       "  <thead>\n",
       "    <tr style=\"text-align: right;\">\n",
       "      <th></th>\n",
       "      <th>AS_6</th>\n",
       "      <th>score</th>\n",
       "    </tr>\n",
       "  </thead>\n",
       "  <tbody>\n",
       "    <tr>\n",
       "      <th>0</th>\n",
       "      <td>AS_0</td>\n",
       "      <td>0.166667</td>\n",
       "    </tr>\n",
       "  </tbody>\n",
       "</table>\n",
       "</div>"
      ],
      "text/plain": [
       "   AS_6     score\n",
       "0  AS_0  0.166667"
      ]
     },
     "metadata": {},
     "output_type": "display_data"
    },
    {
     "data": {
      "text/html": [
       "<div>\n",
       "<style scoped>\n",
       "    .dataframe tbody tr th:only-of-type {\n",
       "        vertical-align: middle;\n",
       "    }\n",
       "\n",
       "    .dataframe tbody tr th {\n",
       "        vertical-align: top;\n",
       "    }\n",
       "\n",
       "    .dataframe thead th {\n",
       "        text-align: right;\n",
       "    }\n",
       "</style>\n",
       "<table border=\"1\" class=\"dataframe\">\n",
       "  <thead>\n",
       "    <tr style=\"text-align: right;\">\n",
       "      <th></th>\n",
       "      <th>AS_7</th>\n",
       "      <th>score</th>\n",
       "    </tr>\n",
       "  </thead>\n",
       "  <tbody>\n",
       "    <tr>\n",
       "      <th>0</th>\n",
       "      <td>AS_1</td>\n",
       "      <td>0.25</td>\n",
       "    </tr>\n",
       "  </tbody>\n",
       "</table>\n",
       "</div>"
      ],
      "text/plain": [
       "   AS_7  score\n",
       "0  AS_1   0.25"
      ]
     },
     "metadata": {},
     "output_type": "display_data"
    },
    {
     "data": {
      "text/html": [
       "<div>\n",
       "<style scoped>\n",
       "    .dataframe tbody tr th:only-of-type {\n",
       "        vertical-align: middle;\n",
       "    }\n",
       "\n",
       "    .dataframe tbody tr th {\n",
       "        vertical-align: top;\n",
       "    }\n",
       "\n",
       "    .dataframe thead th {\n",
       "        text-align: right;\n",
       "    }\n",
       "</style>\n",
       "<table border=\"1\" class=\"dataframe\">\n",
       "  <thead>\n",
       "    <tr style=\"text-align: right;\">\n",
       "      <th></th>\n",
       "      <th>AS_8</th>\n",
       "      <th>score</th>\n",
       "    </tr>\n",
       "  </thead>\n",
       "  <tbody>\n",
       "    <tr>\n",
       "      <th>0</th>\n",
       "      <td>AS_0</td>\n",
       "      <td>0.2</td>\n",
       "    </tr>\n",
       "  </tbody>\n",
       "</table>\n",
       "</div>"
      ],
      "text/plain": [
       "   AS_8  score\n",
       "0  AS_0    0.2"
      ]
     },
     "metadata": {},
     "output_type": "display_data"
    },
    {
     "data": {
      "text/html": [
       "<div>\n",
       "<style scoped>\n",
       "    .dataframe tbody tr th:only-of-type {\n",
       "        vertical-align: middle;\n",
       "    }\n",
       "\n",
       "    .dataframe tbody tr th {\n",
       "        vertical-align: top;\n",
       "    }\n",
       "\n",
       "    .dataframe thead th {\n",
       "        text-align: right;\n",
       "    }\n",
       "</style>\n",
       "<table border=\"1\" class=\"dataframe\">\n",
       "  <thead>\n",
       "    <tr style=\"text-align: right;\">\n",
       "      <th></th>\n",
       "      <th>AS_9</th>\n",
       "      <th>score</th>\n",
       "    </tr>\n",
       "  </thead>\n",
       "  <tbody>\n",
       "    <tr>\n",
       "      <th>0</th>\n",
       "      <td>AS_1</td>\n",
       "      <td>0.25</td>\n",
       "    </tr>\n",
       "  </tbody>\n",
       "</table>\n",
       "</div>"
      ],
      "text/plain": [
       "   AS_9  score\n",
       "0  AS_1   0.25"
      ]
     },
     "metadata": {},
     "output_type": "display_data"
    }
   ],
   "source": [
    "for i in range(len(encoder.classes_)):\n",
    "    try:\n",
    "        visualize_top(item_ratings_ind_nb, i)\n",
    "    except:\n",
    "        pass"
   ]
  },
  {
   "cell_type": "code",
   "execution_count": null,
   "id": "4c465ebb",
   "metadata": {},
   "outputs": [],
   "source": []
  }
 ],
 "metadata": {
  "kernelspec": {
   "display_name": "Python 3 (ipykernel)",
   "language": "python",
   "name": "python3"
  },
  "language_info": {
   "codemirror_mode": {
    "name": "ipython",
    "version": 3
   },
   "file_extension": ".py",
   "mimetype": "text/x-python",
   "name": "python",
   "nbconvert_exporter": "python",
   "pygments_lexer": "ipython3",
   "version": "3.9.13"
  }
 },
 "nbformat": 4,
 "nbformat_minor": 5
}
